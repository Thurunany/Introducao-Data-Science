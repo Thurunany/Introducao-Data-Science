{
  "nbformat": 4,
  "nbformat_minor": 0,
  "metadata": {
    "colab": {
      "name": "Introdução a Data Science.ipynb",
      "provenance": [],
      "collapsed_sections": [],
      "authorship_tag": "ABX9TyNP+xnEobP1PDbVC1PN37pf",
      "include_colab_link": true
    },
    "kernelspec": {
      "name": "python3",
      "display_name": "Python 3"
    },
    "language_info": {
      "name": "python"
    }
  },
  "cells": [
    {
      "cell_type": "markdown",
      "metadata": {
        "id": "view-in-github",
        "colab_type": "text"
      },
      "source": [
        "<a href=\"https://colab.research.google.com/github/Thurunany/Introducao-Data-Science/blob/main/VisualizacaoData.ipynb\" target=\"_parent\"><img src=\"https://colab.research.google.com/assets/colab-badge.svg\" alt=\"Open In Colab\"/></a>"
      ]
    },
    {
      "cell_type": "markdown",
      "source": [
        "#AULA 6"
      ],
      "metadata": {
        "id": "lkbt86lMv9XY"
      }
    },
    {
      "cell_type": "code",
      "source": [
        "plt.pie(contagem_de_lingua[\"total\"], labels = contagem_de_lingua[\"original_language\"])"
      ],
      "metadata": {
        "colab": {
          "base_uri": "https://localhost:8080/",
          "height": 1000
        },
        "id": "R5AfFwQnv3l_",
        "outputId": "a56d6fe1-93f0-41e0-9085-9e915dd70a91"
      },
      "execution_count": 65,
      "outputs": [
        {
          "output_type": "execute_result",
          "data": {
            "text/plain": [
              "([<matplotlib.patches.Wedge at 0x7fefeeca5b50>,\n",
              "  <matplotlib.patches.Wedge at 0x7fefeeca5e90>,\n",
              "  <matplotlib.patches.Wedge at 0x7fefeecb1590>,\n",
              "  <matplotlib.patches.Wedge at 0x7fefeecb1650>,\n",
              "  <matplotlib.patches.Wedge at 0x7fefeecbb4d0>,\n",
              "  <matplotlib.patches.Wedge at 0x7fefeecbbb10>,\n",
              "  <matplotlib.patches.Wedge at 0x7fefeecbb850>,\n",
              "  <matplotlib.patches.Wedge at 0x7fefeec46410>,\n",
              "  <matplotlib.patches.Wedge at 0x7fefeecbb150>,\n",
              "  <matplotlib.patches.Wedge at 0x7fefeec46f10>,\n",
              "  <matplotlib.patches.Wedge at 0x7fefeeca5b10>,\n",
              "  <matplotlib.patches.Wedge at 0x7fefeec54510>,\n",
              "  <matplotlib.patches.Wedge at 0x7fefeec54a90>,\n",
              "  <matplotlib.patches.Wedge at 0x7fefeec5f090>,\n",
              "  <matplotlib.patches.Wedge at 0x7fefeec5f650>,\n",
              "  <matplotlib.patches.Wedge at 0x7fefeec6b150>,\n",
              "  <matplotlib.patches.Wedge at 0x7fefeec6b210>,\n",
              "  <matplotlib.patches.Wedge at 0x7fefeec6b7d0>,\n",
              "  <matplotlib.patches.Wedge at 0x7fefeec762d0>,\n",
              "  <matplotlib.patches.Wedge at 0x7fefeec76390>,\n",
              "  <matplotlib.patches.Wedge at 0x7fefeec76950>,\n",
              "  <matplotlib.patches.Wedge at 0x7fefeec01450>,\n",
              "  <matplotlib.patches.Wedge at 0x7fefeec01510>,\n",
              "  <matplotlib.patches.Wedge at 0x7fefeec01ad0>,\n",
              "  <matplotlib.patches.Wedge at 0x7fefeec0d0d0>,\n",
              "  <matplotlib.patches.Wedge at 0x7fefeec0d690>,\n",
              "  <matplotlib.patches.Wedge at 0x7fefeec19190>,\n",
              "  <matplotlib.patches.Wedge at 0x7fefeec19250>,\n",
              "  <matplotlib.patches.Wedge at 0x7fefeec19810>,\n",
              "  <matplotlib.patches.Wedge at 0x7fefeec23310>,\n",
              "  <matplotlib.patches.Wedge at 0x7fefeec233d0>,\n",
              "  <matplotlib.patches.Wedge at 0x7fefeec23990>,\n",
              "  <matplotlib.patches.Wedge at 0x7fefeec30490>,\n",
              "  <matplotlib.patches.Wedge at 0x7fefeec30550>,\n",
              "  <matplotlib.patches.Wedge at 0x7fefeec3c050>,\n",
              "  <matplotlib.patches.Wedge at 0x7fefeec3c110>,\n",
              "  <matplotlib.patches.Wedge at 0x7fefeec3c6d0>],\n",
              " [Text(-1.0791697536499925, 0.2130554923183512, 'en'),\n",
              "  Text(1.0355355017029462, -0.3710339940124459, 'fr'),\n",
              "  Text(1.0579676486019882, -0.3011718023181785, 'es'),\n",
              "  Text(1.0687996606645356, -0.26012936274741094, 'zh'),\n",
              "  Text(1.0773191105706255, -0.22222406260195313, 'de'),\n",
              "  Text(1.0835167978583342, -0.18971386021801853, 'hi'),\n",
              "  Text(1.0875756432724297, -0.16486121484618815, 'ja'),\n",
              "  Text(1.0906010773146022, -0.14348968659882622, 'it'),\n",
              "  Text(1.092883487371409, -0.12492270822755745, 'cn'),\n",
              "  Text(1.0946390911069936, -0.10846778425161549, 'ru'),\n",
              "  Text(1.0960865535188649, -0.09270527058984593, 'ko'),\n",
              "  Text(1.0972054830031333, -0.07835896928789601, 'pt'),\n",
              "  Text(1.097965443340663, -0.06687215586282344, 'da'),\n",
              "  Text(1.0984565010300316, -0.05825217030171998, 'sv'),\n",
              "  Text(1.0987803851616647, -0.0517847968421653, 'nl'),\n",
              "  Text(1.0990363161210686, -0.04603450713357274, 'fa'),\n",
              "  Text(1.0992355702663055, -0.04100196411527794, 'th'),\n",
              "  Text(1.0993880184234357, -0.03668766750546649, 'he'),\n",
              "  Text(1.0995021239019234, -0.033091985965784415, 'ta'),\n",
              "  Text(1.099584941078101, -0.03021518416739545, 'cs'),\n",
              "  Text(1.0996602312343366, -0.027338175536150495, 'ro'),\n",
              "  Text(1.099727993855245, -0.024460979766119193, 'id'),\n",
              "  Text(1.0997882284769684, -0.02158361655264929, 'ar'),\n",
              "  Text(1.0998284639438185, -0.01942549610642471, 'vi'),\n",
              "  Text(1.0998529348820232, -0.01798670707495573, 'sl'),\n",
              "  Text(1.0998755236058106, -0.01654788726224571, 'ps'),\n",
              "  Text(1.0998962300765243, -0.01510903913059323, 'no'),\n",
              "  Text(1.0999150542587282, -0.013670165142345335, 'ky'),\n",
              "  Text(1.0999319961202083, -0.012231267759896247, 'hu'),\n",
              "  Text(1.0999470556319713, -0.01079234944567632, 'pl'),\n",
              "  Text(1.099960232768245, -0.00935341266215563, 'af'),\n",
              "  Text(1.0999715275064792, -0.007914459871831963, 'nb'),\n",
              "  Text(1.0999809398273452, -0.006475493537234394, 'tr'),\n",
              "  Text(1.0999884697147349, -0.005036516120911278, 'is'),\n",
              "  Text(1.0999941171557621, -0.0035975300854338356, 'xx'),\n",
              "  Text(1.0999978821407626, -0.0021585378933851127, 'te'),\n",
              "  Text(1.0999997646632929, -0.0007195420073586872, 'el')])"
            ]
          },
          "metadata": {},
          "execution_count": 65
        },
        {
          "output_type": "display_data",
          "data": {
            "text/plain": [
              "<Figure size 432x288 with 1 Axes>"
            ],
            "image/png": "[encoded data removed]"
          },
          "metadata": {}
        }
      ]
    },
    {
      "cell_type": "code",
      "source": [
        "total_por_lingua = tmdb[\"original_language\"].value_counts()\n",
        "total_geral = total_por_lingua.sum()\n",
        "total_de_ingles = total_por_lingua.loc[\"en\"]\n",
        "total_do_resto = total_geral - total_de_ingles\n",
        "print(total_de_ingles, total_do_resto)"
      ],
      "metadata": {
        "colab": {
          "base_uri": "https://localhost:8080/"
        },
        "id": "z8csWMOSv5VJ",
        "outputId": "1d0d89da-74de-40d0-ff12-ba1a54e5b12a"
      },
      "execution_count": 66,
      "outputs": [
        {
          "output_type": "stream",
          "name": "stdout",
          "text": [
            "4505 298\n"
          ]
        }
      ]
    },
    {
      "cell_type": "code",
      "source": [
        "dados = {\n",
        "    'lingua' : ['ingles','outros'],\n",
        "    'total' : [total_de_ingles, total_do_resto]\n",
        "}\n",
        "dados = pd.DataFrame(dados)\n",
        "sns.barplot(x=\"lingua\", y=\"total\", data = dados)"
      ],
      "metadata": {
        "colab": {
          "base_uri": "https://localhost:8080/",
          "height": 296
        },
        "id": "aRcMbI72w-4f",
        "outputId": "a26cab06-8719-437a-8540-9474e5364900"
      },
      "execution_count": 67,
      "outputs": [
        {
          "output_type": "execute_result",
          "data": {
            "text/plain": [
              "<matplotlib.axes._subplots.AxesSubplot at 0x7fefeebcf750>"
            ]
          },
          "metadata": {},
          "execution_count": 67
        },
        {
          "output_type": "display_data",
          "data": {
            "text/plain": [
              "<Figure size 432x288 with 1 Axes>"
            ],
            "image/png": "[encoded data removed]"
          },
          "metadata": {
            "needs_background": "light"
          }
        }
      ]
    }
  ]
}